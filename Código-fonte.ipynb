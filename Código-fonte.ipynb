{
  "cells": [
    {
      "cell_type": "markdown",
      "metadata": {
        "id": "Em_moap3wLEk"
      },
      "source": [
        "# 0️⃣ Instruções"
      ]
    },
    {
      "cell_type": "markdown",
      "metadata": {
        "id": "s_yI2k4NwTTb"
      },
      "source": [
        "*   Importar as bibliotecas, conforme versões informadas no arquivo requirements.txt\n",
        "*   Para o correto carregamento das 04 bases fornecidas no formato .csv, é necessário que esses arquivos estejam **dentro da mesma pasta deste notebook**."
      ]
    },
    {
      "cell_type": "code",
      "execution_count": null,
      "metadata": {
        "colab": {
          "base_uri": "https://localhost:8080/"
        },
        "id": "OFWF7erilMOK",
        "outputId": "fa2e6da8-b2b2-48a0-95c3-e14d20eecb3d"
      },
      "outputs": [],
      "source": [
        "# Importação das bibliotecas\n",
        "import pandas as pd\n",
        "import matplotlib.pyplot as plt\n",
        "import seaborn as sns\n",
        "import numpy as np\n",
        "import re\n",
        "\n",
        "from sklearn.model_selection import train_test_split\n",
        "from sklearn.pipeline import Pipeline\n",
        "from sklearn.compose import ColumnTransformer\n",
        "from sklearn.preprocessing import OneHotEncoder, StandardScaler\n",
        "from sklearn.ensemble import RandomForestClassifier\n",
        "from sklearn.model_selection import cross_val_score\n",
        "from sklearn.model_selection import learning_curve\n",
        "from sklearn.metrics import confusion_matrix, classification_report\n",
        "from sklearn.metrics import roc_curve, roc_auc_score\n",
        "\n",
        "from imblearn.over_sampling import SMOTE\n",
        "from imblearn.pipeline import Pipeline as ImbPipeline"
      ]
    },
    {
      "cell_type": "markdown",
      "metadata": {
        "id": "T_20XoNxPfag"
      },
      "source": [
        "# 1️⃣ Análise Exploratória e Limpeza das Bases"
      ]
    },
    {
      "cell_type": "code",
      "execution_count": null,
      "metadata": {
        "id": "YNZ-TVYC0PK9"
      },
      "outputs": [],
      "source": [
        "# Carregamento das bases (Windows)\n",
        "df_cadastro = pd.read_csv(\"base_cadastral.csv\", delimiter=';')\n",
        "df_info = pd.read_csv(\"base_info.csv\", delimiter=';')\n",
        "df_pgto = pd.read_csv(\"base_pagamentos_desenvolvimento.csv\", delimiter=';')\n",
        "df_pgto_teste = pd.read_csv(\"base_pagamentos_teste.csv\", delimiter=';')"
      ]
    },
    {
      "cell_type": "markdown",
      "metadata": {
        "id": "-WCfif5JPy0k"
      },
      "source": [
        "## base_cadastral"
      ]
    },
    {
      "cell_type": "code",
      "execution_count": null,
      "metadata": {
        "colab": {
          "base_uri": "https://localhost:8080/",
          "height": 474
        },
        "id": "sTqZDVCZQaWK",
        "outputId": "e5a47bbd-9ad6-4d0c-bb12-4018fa4c74ac"
      },
      "outputs": [],
      "source": [
        "# Verificação estrutural\n",
        "df_cadastro.info()\n",
        "df_cadastro.head()"
      ]
    },
    {
      "cell_type": "code",
      "execution_count": null,
      "metadata": {
        "colab": {
          "base_uri": "https://localhost:8080/"
        },
        "id": "gtPpz1H4QclG",
        "outputId": "05c54dae-0aef-48bb-ef15-d70ef0d3d44a"
      },
      "outputs": [],
      "source": [
        "# Verificação da distribuição das categorias\n",
        "colunas = ['DDD','FLAG_PF','SEGMENTO_INDUSTRIAL','DOMINIO_EMAIL','PORTE','CEP_2_DIG']\n",
        "for column in colunas:\n",
        "    print(f\"Contagem na coluna '{column}':\")\n",
        "    print(df_cadastro[column].value_counts(dropna=False))\n",
        "    print(\"-\" * 30)"
      ]
    },
    {
      "cell_type": "code",
      "execution_count": null,
      "metadata": {
        "colab": {
          "base_uri": "https://localhost:8080/"
        },
        "id": "YHp-RR9QQhDz",
        "outputId": "d119bf88-2037-4500-e2a7-37690e8f2fe9"
      },
      "outputs": [],
      "source": [
        "# Variável DDD:\n",
        "# Filtragem de linhas onde o valor da coluna 'DDD' não tem exatamente 2 dígitos\n",
        "filtro = ~df_cadastro['DDD'].astype(str).str.fullmatch(r'\\d{2}')\n",
        "df_filtrado = df_cadastro.loc[filtro]\n",
        "\n",
        "# Contagem de ocorrências da coluna 'DDD'\n",
        "print(\"Contagem na coluna 'DDD' (valores inválidos):\")\n",
        "print(df_filtrado['DDD'].value_counts(dropna=False))"
      ]
    },
    {
      "cell_type": "code",
      "execution_count": null,
      "metadata": {
        "id": "ldpCIw7ZQhfS"
      },
      "outputs": [],
      "source": [
        "# Lista com DDDs fora do padrão, encontrados anteriormente\n",
        "ddd_inconsistentes = df_cadastro[df_cadastro['DDD'].astype(str).str.startswith('(')]\n",
        "ddd_nulos = df_cadastro[df_cadastro['DDD'].isnull()]"
      ]
    },
    {
      "cell_type": "code",
      "execution_count": null,
      "metadata": {
        "id": "dZfDPR2JQiYn"
      },
      "outputs": [],
      "source": [
        "# Listas para o preenchimento dos nulos\n",
        "lista_ceps_ddd_inconsistentes = ddd_inconsistentes['CEP_2_DIG'].values\n",
        "lista_ceps_ddd_nulo = ddd_nulos['CEP_2_DIG'].values\n",
        "lista_ceps_final = list(set(ddd_inconsistentes['CEP_2_DIG'].tolist() + ddd_nulos['CEP_2_DIG'].tolist()))\n",
        "\n",
        "# Dicionário: {'2 primeiros dígitos do CEP': 'DDD correspondente estimado'}\n",
        "cep_para_ddd = {'66': '66', '96': '96', '77': '77', '55': '55', '21': '21', '36': '35', '28': '27', '32': '32', '26': '24', '98': '98', '48': '48', '78': '65', '63': '63', '23': '24', '95': '95', '16': '16', '62': '62', '89': '89', '40': '85', '91': '91', '83': '83', '81': '81', '50': '67', '15': '15', '87': '87', '88': '48', '90': '11', '29': '71', '12': '12', '43': '43', '59': '84', '14': '16', '61': '61', '35': '35', '57': '82', '84': '84', '56': '56', '97': '97', '54': '54', '20': '21', '22': '22', '13': '19', 'na': 'DDD desconhecido', '65': '65', '17': '17', '99': '98', '85': '85', '49': '49', '37': '37', '75': '75', '46': '46', '68': '68', '93': '93', '33': '22', '70': '61', '27': '27', '58': '83', '71': '71', '72': '62', '34': '34', '76': '77', '53': '53', '18': '18', '42': '42', '64': '64', '79': '79', '73': '73', '60': '61', '45': '45', '19': '19', '30': '31', '11': '11', '69': '69', '80': '11', '47': '47', '38': '38', '25': '24', '41': '41', '86': '86'}\n",
        "\n",
        "# Preenchimento dos DDDs ausentes com base no CEP\n",
        "df_cadastro.loc[df_cadastro['DDD'].isnull() | df_cadastro['DDD'].str.startswith('('), 'DDD'] = df_cadastro['CEP_2_DIG'].map(cep_para_ddd)\n",
        "\n",
        "# Exclusão do registro cujo CEP é 'na', uma vez que não foram encontradas formas de preenchê-lo\n",
        "df_cadastro = df_cadastro[df_cadastro['CEP_2_DIG'] != 'na']"
      ]
    },
    {
      "cell_type": "code",
      "execution_count": null,
      "metadata": {
        "colab": {
          "base_uri": "https://localhost:8080/",
          "height": 882
        },
        "id": "7m4zlkGZQiVG",
        "outputId": "07e0290b-6ebf-4ebc-be00-14a3240a0365"
      },
      "outputs": [],
      "source": [
        "# Análise de outliers da variável DDD\n",
        "sns.histplot(df_cadastro['DDD'])\n",
        "plt.show()\n",
        "\n",
        "sns.boxplot(x=df_cadastro['DDD'])\n",
        "plt.show()"
      ]
    },
    {
      "cell_type": "code",
      "execution_count": null,
      "metadata": {
        "id": "7_He-nvKQiRp"
      },
      "outputs": [],
      "source": [
        "# Variável DATA_CADASTRO:\n",
        "# Conversão para data\n",
        "df_cadastro['DATA_CADASTRO'] = pd.to_datetime(df_cadastro['DATA_CADASTRO'], errors='coerce')"
      ]
    },
    {
      "cell_type": "code",
      "execution_count": null,
      "metadata": {
        "colab": {
          "base_uri": "https://localhost:8080/",
          "height": 881
        },
        "id": "1AkB7gTBQiOZ",
        "outputId": "718e4a70-82fc-421e-91a6-1b64d09659b9"
      },
      "outputs": [],
      "source": [
        "# Análise de outliers da variável DATA_CADASTRO\n",
        "sns.histplot(df_cadastro['DATA_CADASTRO'])\n",
        "plt.show()\n",
        "\n",
        "sns.boxplot(x=df_cadastro['DATA_CADASTRO'])\n",
        "plt.show()"
      ]
    },
    {
      "cell_type": "code",
      "execution_count": null,
      "metadata": {
        "colab": {
          "base_uri": "https://localhost:8080/",
          "height": 881
        },
        "id": "m_OSg-U4QiKn",
        "outputId": "48d54a29-17be-485f-d09c-54850f0af904"
      },
      "outputs": [],
      "source": [
        "# Análise de outliers da variável CEP_2_DIG\n",
        "sns.histplot(df_cadastro['CEP_2_DIG'])\n",
        "plt.show()\n",
        "\n",
        "sns.boxplot(x=df_cadastro['CEP_2_DIG'])\n",
        "plt.show()"
      ]
    },
    {
      "cell_type": "code",
      "execution_count": null,
      "metadata": {
        "id": "0T9vYRwuQh4t"
      },
      "outputs": [],
      "source": [
        "# Conversões de CEP_2_DIG e DDD para inteiro, uma vez que estão como números flutuantes\n",
        "df_cadastro['CEP_2_DIG'] = df_cadastro['CEP_2_DIG'].astype('int64')\n",
        "df_cadastro['DDD'] = df_cadastro['DDD'].astype('int64')"
      ]
    },
    {
      "cell_type": "code",
      "execution_count": null,
      "metadata": {
        "id": "fgFr8Jh4QwtL"
      },
      "outputs": [],
      "source": [
        "# Preenchimento de nulos com \"NÃO INFORMADO\"\n",
        "colunas_com_nulos = ['FLAG_PF', 'SEGMENTO_INDUSTRIAL', 'DOMINIO_EMAIL', 'PORTE']\n",
        "df_cadastro[colunas_com_nulos] = df_cadastro[colunas_com_nulos].fillna('NÃO INFORMADO')"
      ]
    },
    {
      "cell_type": "code",
      "execution_count": null,
      "metadata": {
        "id": "EVUHNWi_QyQy"
      },
      "outputs": [],
      "source": [
        "# Cálculo da \"idade\" do cliente, com base na data de referência de Novembro/2021, que é a data mais recente da base_pagamentos_teste\n",
        "data_referencia = pd.to_datetime('2021-11-01')\n",
        "df_cadastro['TEMPO_CADASTRO_ANOS'] = (data_referencia - df_cadastro['DATA_CADASTRO']).dt.days / 365"
      ]
    },
    {
      "cell_type": "markdown",
      "metadata": {
        "id": "CnbHXL-jP4WV"
      },
      "source": [
        "## base_info"
      ]
    },
    {
      "cell_type": "code",
      "execution_count": null,
      "metadata": {
        "colab": {
          "base_uri": "https://localhost:8080/",
          "height": 403
        },
        "id": "rzyL9sQPQGZg",
        "outputId": "265f71e8-d393-4e8a-ebc2-cb3023d89771"
      },
      "outputs": [],
      "source": [
        "# Verificação estrutural\n",
        "df_info.info()\n",
        "df_info.head()"
      ]
    },
    {
      "cell_type": "code",
      "execution_count": null,
      "metadata": {
        "colab": {
          "base_uri": "https://localhost:8080/"
        },
        "id": "8d4dZD1LRWd_",
        "outputId": "8159da37-3569-4447-cad8-5bfef55bb30e"
      },
      "outputs": [],
      "source": [
        "# Verificação da distribuição das categorias\n",
        "for column in df_info:\n",
        "    print(f\"Contagem na coluna '{column}':\")\n",
        "    print(df_info[column].value_counts(dropna=False))\n",
        "    print(\"-\" * 30)"
      ]
    },
    {
      "cell_type": "code",
      "execution_count": null,
      "metadata": {
        "id": "wfE_62UeRWc2"
      },
      "outputs": [],
      "source": [
        "# Conversão para data\n",
        "df_info['SAFRA_REF'] = pd.to_datetime(df_info['SAFRA_REF'].str.strip() + '-01', format='%Y-%m-%d', errors='coerce')"
      ]
    },
    {
      "cell_type": "code",
      "execution_count": null,
      "metadata": {
        "colab": {
          "base_uri": "https://localhost:8080/",
          "height": 467
        },
        "id": "fbcHDs4tRWYs",
        "outputId": "6f6e42c4-7270-4564-bbc8-b4569f4bee94"
      },
      "outputs": [],
      "source": [
        "# Análise da variável SAFRA_REF\n",
        "sns.histplot(df_info['SAFRA_REF'])"
      ]
    },
    {
      "cell_type": "code",
      "execution_count": null,
      "metadata": {
        "colab": {
          "base_uri": "https://localhost:8080/",
          "height": 881
        },
        "id": "FL_LezB7RWVz",
        "outputId": "d5eb05b6-7728-46b1-83fc-d0ce9cffa500"
      },
      "outputs": [],
      "source": [
        "# Análise da variável RENDA_MES_ANTERIOR\n",
        "sns.histplot(df_info['RENDA_MES_ANTERIOR'])\n",
        "plt.show()\n",
        "\n",
        "sns.boxplot(x=df_info['RENDA_MES_ANTERIOR'])\n",
        "plt.show()"
      ]
    },
    {
      "cell_type": "code",
      "execution_count": null,
      "metadata": {
        "colab": {
          "base_uri": "https://localhost:8080/"
        },
        "id": "Xijqfj6_RWSN",
        "outputId": "6c48587d-3f41-4604-d02a-2186c114ae59"
      },
      "outputs": [],
      "source": [
        "# Cálculo dos quartis e criação dos limites\n",
        "Q1 = df_info['RENDA_MES_ANTERIOR'].quantile(0.25)\n",
        "Q3 = df_info['RENDA_MES_ANTERIOR'].quantile(0.75)\n",
        "IQR = Q3 - Q1\n",
        "limite_superior = Q3 + 1.5 * IQR\n",
        "\n",
        "# Filtragem do dataframe para cálculo da redução de registros\n",
        "df_info_sem_outliers = df_info.loc[df_info['RENDA_MES_ANTERIOR'].isna() | (df_info['RENDA_MES_ANTERIOR'] <= limite_superior)].copy()\n",
        "\n",
        "# Verificação\n",
        "num_removidos = len(df_info) - len(df_info_sem_outliers)\n",
        "print(f\"Registros removidos: {num_removidos}\")\n",
        "print(f\"Novo tamanho: {df_info_sem_outliers.shape}\")\n",
        "\n",
        "# Remoção no dataframe original\n",
        "df_info = df_info.loc[df_info['RENDA_MES_ANTERIOR'].isna() | (df_info['RENDA_MES_ANTERIOR'] <= limite_superior)]"
      ]
    },
    {
      "cell_type": "code",
      "execution_count": null,
      "metadata": {
        "colab": {
          "base_uri": "https://localhost:8080/"
        },
        "id": "d3wVmsv3RWPv",
        "outputId": "fef67b68-7e09-434c-9dda-1981334a0a72"
      },
      "outputs": [],
      "source": [
        "# Preenchimento dos nulos\n",
        "mediana = df_info['RENDA_MES_ANTERIOR'].median()\n",
        "df_info['RENDA_MES_ANTERIOR'] = df_info['RENDA_MES_ANTERIOR'].fillna(mediana)"
      ]
    },
    {
      "cell_type": "code",
      "execution_count": null,
      "metadata": {
        "colab": {
          "base_uri": "https://localhost:8080/",
          "height": 881
        },
        "id": "vHQAOIMkRWMU",
        "outputId": "941baf6e-f391-464e-dc79-c9e158333f96"
      },
      "outputs": [],
      "source": [
        "# Análise da variável NO_FUNCIONARIOS\n",
        "sns.histplot(df_info['NO_FUNCIONARIOS'])\n",
        "plt.show()\n",
        "\n",
        "sns.boxplot(x=df_info['NO_FUNCIONARIOS'])\n",
        "plt.show()"
      ]
    },
    {
      "cell_type": "code",
      "execution_count": null,
      "metadata": {
        "colab": {
          "base_uri": "https://localhost:8080/"
        },
        "id": "BMyXkz8SRWG8",
        "outputId": "870f13d5-61ae-406e-fce1-6ac8c06fc80e"
      },
      "outputs": [],
      "source": [
        "# Cálculo dos quartis e criação dos limites\n",
        "Q1 = df_info['NO_FUNCIONARIOS'].quantile(0.25)\n",
        "Q3 = df_info['NO_FUNCIONARIOS'].quantile(0.75)\n",
        "IQR = Q3 - Q1\n",
        "limite_inferior = Q1 - 1.5 * IQR\n",
        "\n",
        "# Filtragem do dataframe para cálculo da redução de registros\n",
        "df_info_sem_outliers = df_info.loc[df_info['NO_FUNCIONARIOS'].isna() | (df_info['NO_FUNCIONARIOS'] >= limite_inferior)].copy()\n",
        "\n",
        "# Verificação\n",
        "num_removidos = len(df_info) - len(df_info_sem_outliers)\n",
        "print(f\"Registros removidos: {num_removidos}\")\n",
        "print(f\"Novo tamanho: {df_info_sem_outliers.shape}\")\n",
        "\n",
        "# Remoção no dataframe original\n",
        "df_info = df_info.loc[df_info['NO_FUNCIONARIOS'].isna() | (df_info['NO_FUNCIONARIOS'] >= limite_inferior)]"
      ]
    },
    {
      "cell_type": "code",
      "execution_count": null,
      "metadata": {
        "id": "NQY8WdoeRV98"
      },
      "outputs": [],
      "source": [
        "# Preenchimento dos nulos\n",
        "media = df_info['NO_FUNCIONARIOS'].mean()\n",
        "df_info['NO_FUNCIONARIOS'] = df_info['NO_FUNCIONARIOS'].fillna(media)"
      ]
    },
    {
      "cell_type": "code",
      "execution_count": null,
      "metadata": {
        "id": "rNcEQwIdRiEh"
      },
      "outputs": [],
      "source": [
        "# Remoção de registros cujo valor de funcionários é zero\n",
        "df_info = df_info[df_info['NO_FUNCIONARIOS'] != 0]"
      ]
    },
    {
      "cell_type": "code",
      "execution_count": null,
      "metadata": {
        "id": "Cw8aDGZIRiBR"
      },
      "outputs": [],
      "source": [
        "# Conversão\n",
        "df_info['NO_FUNCIONARIOS'] = np.ceil(df_info['NO_FUNCIONARIOS'].astype(float)).astype(int)"
      ]
    },
    {
      "cell_type": "markdown",
      "metadata": {
        "id": "lTD2riByP4Ol"
      },
      "source": [
        "## base_pagamentos_desenvolvimento"
      ]
    },
    {
      "cell_type": "code",
      "execution_count": null,
      "metadata": {
        "colab": {
          "base_uri": "https://localhost:8080/",
          "height": 456
        },
        "id": "uLBrXWF9QGtl",
        "outputId": "0a4d9dfe-ca71-435d-c727-1ce53f0c89c7"
      },
      "outputs": [],
      "source": [
        "# Verificação estrutural\n",
        "df_pgto.info()\n",
        "df_pgto.head()"
      ]
    },
    {
      "cell_type": "code",
      "execution_count": null,
      "metadata": {
        "colab": {
          "base_uri": "https://localhost:8080/"
        },
        "id": "guip9LIbRxX3",
        "outputId": "f2d90b2f-7c65-449b-b618-cde42558bd60"
      },
      "outputs": [],
      "source": [
        "# Verificação da distribuição das categorias\n",
        "for column in df_pgto:\n",
        "    print(f\"Contagem na coluna '{column}':\")\n",
        "    print(df_pgto[column].value_counts(dropna=False))\n",
        "    print(\"-\" * 30)"
      ]
    },
    {
      "cell_type": "code",
      "execution_count": null,
      "metadata": {
        "id": "sEA3blwDRxUv"
      },
      "outputs": [],
      "source": [
        "# Conversões para data\n",
        "df_pgto['SAFRA_REF'] = pd.to_datetime(df_pgto['SAFRA_REF'].str.strip() + '-01', format='%Y-%m-%d', errors='coerce')\n",
        "df_pgto['DATA_EMISSAO_DOCUMENTO'] = pd.to_datetime(df_pgto['DATA_EMISSAO_DOCUMENTO'], format='%Y-%m-%d', errors='coerce')\n",
        "df_pgto['DATA_PAGAMENTO'] = pd.to_datetime(df_pgto['DATA_PAGAMENTO'], format='%Y-%m-%d', errors='coerce')\n",
        "df_pgto['DATA_VENCIMENTO'] = pd.to_datetime(df_pgto['DATA_VENCIMENTO'], format='%Y-%m-%d', errors='coerce')"
      ]
    },
    {
      "cell_type": "code",
      "execution_count": null,
      "metadata": {
        "colab": {
          "base_uri": "https://localhost:8080/",
          "height": 407
        },
        "id": "Ua1fOEqSRxRo",
        "outputId": "44c7e49c-885d-41f3-c14a-3b55c246b9e7"
      },
      "outputs": [],
      "source": [
        "# Análise das variáveis DATA_PAGAMENTO, DATA_EMISSAO_DOCUMENTO e SAFRA_REF\n",
        "fig, axes = plt.subplots(1, 3, figsize=(18, 4))\n",
        "\n",
        "sns.boxplot(x=df_pgto['DATA_PAGAMENTO'], ax=axes[0])\n",
        "sns.boxplot(x=df_pgto['DATA_EMISSAO_DOCUMENTO'], ax=axes[1])\n",
        "sns.boxplot(x=df_pgto['SAFRA_REF'], ax=axes[2])\n",
        "\n",
        "plt.tight_layout()\n",
        "plt.show()"
      ]
    },
    {
      "cell_type": "code",
      "execution_count": null,
      "metadata": {
        "colab": {
          "base_uri": "https://localhost:8080/",
          "height": 881
        },
        "id": "HU-2YseXRxOY",
        "outputId": "9d9e44b5-3300-49dd-fb1f-4b5db7a31734"
      },
      "outputs": [],
      "source": [
        "# Análise da variável DATA_VENCIMENTO\n",
        "sns.histplot(df_pgto['DATA_VENCIMENTO'])\n",
        "plt.show()\n",
        "\n",
        "sns.boxplot(x=df_pgto['DATA_VENCIMENTO'])\n",
        "plt.show()"
      ]
    },
    {
      "cell_type": "code",
      "execution_count": null,
      "metadata": {
        "colab": {
          "base_uri": "https://localhost:8080/"
        },
        "id": "vbre-fN2RxLM",
        "outputId": "eb7d4bd8-b6b4-46b3-e317-b09ccfe5e715"
      },
      "outputs": [],
      "source": [
        "# Cálculo dos quartis e criação dos limites\n",
        "Q1 = df_pgto['DATA_VENCIMENTO'].quantile(0.25)\n",
        "Q3 = df_pgto['DATA_VENCIMENTO'].quantile(0.75)\n",
        "IQR = Q3 - Q1\n",
        "limite_superior = Q3 + 1.5 * IQR\n",
        "\n",
        "# Filtragem do dataframe para cálculo da redução de registros\n",
        "df_pgto_sem_outliers = df_pgto.loc[df_pgto['DATA_VENCIMENTO'].isna() | (df_pgto['DATA_VENCIMENTO'] <= limite_superior)].copy()\n",
        "\n",
        "# Verificação\n",
        "num_removidos = len(df_pgto) - len(df_pgto_sem_outliers)\n",
        "print(f\"Registros removidos: {num_removidos}\")\n",
        "print(f\"Novo tamanho: {df_pgto_sem_outliers.shape}\")\n",
        "\n",
        "# Remoção no dataframe original\n",
        "df_pgto = df_pgto.loc[df_pgto['DATA_VENCIMENTO'].isna() | (df_pgto['DATA_VENCIMENTO'] <= limite_superior)]"
      ]
    },
    {
      "cell_type": "code",
      "execution_count": null,
      "metadata": {
        "colab": {
          "base_uri": "https://localhost:8080/",
          "height": 881
        },
        "id": "jL-0lRR8RxIG",
        "outputId": "36175e3f-c4c7-4049-d7ac-c3d97963017b"
      },
      "outputs": [],
      "source": [
        "# Análise da variável VALOR_A_PAGAR\n",
        "sns.histplot(df_pgto['VALOR_A_PAGAR'])\n",
        "plt.show()\n",
        "\n",
        "sns.boxplot(x=df_pgto['VALOR_A_PAGAR'])\n",
        "plt.show()"
      ]
    },
    {
      "cell_type": "code",
      "execution_count": null,
      "metadata": {
        "colab": {
          "base_uri": "https://localhost:8080/"
        },
        "id": "LxcAv-cYRxEm",
        "outputId": "65443d66-4346-42b7-bdad-e7c312a049ca"
      },
      "outputs": [],
      "source": [
        "# Cálculo dos quartis e criação dos limites\n",
        "Q1 = df_pgto['VALOR_A_PAGAR'].quantile(0.25)\n",
        "Q3 = df_pgto['VALOR_A_PAGAR'].quantile(0.75)\n",
        "IQR = Q3 - Q1\n",
        "limite_superior = Q3 + 1.5 * IQR\n",
        "\n",
        "# Filtragem do dataframe para cálculo da redução de registros\n",
        "df_pgto_sem_outliers = df_pgto.loc[\n",
        "    df_pgto['VALOR_A_PAGAR'].isna() | (df_pgto['VALOR_A_PAGAR'] <= limite_superior)].copy()\n",
        "\n",
        "# Verificação\n",
        "num_removidos = len(df_pgto) - len(df_pgto_sem_outliers)\n",
        "print(f\"Registros removidos: {num_removidos}\")\n",
        "print(f\"Novo tamanho: {df_pgto_sem_outliers.shape}\")\n",
        "\n",
        "# Remoção no dataframe original\n",
        "df_pgto = df_pgto.loc[df_pgto['VALOR_A_PAGAR'].isna() | (df_pgto['VALOR_A_PAGAR'] <= limite_superior)]"
      ]
    },
    {
      "cell_type": "code",
      "execution_count": null,
      "metadata": {
        "id": "hd16wIPrRxA1"
      },
      "outputs": [],
      "source": [
        "# Preenchimento de nulos\n",
        "mediana = df_pgto['VALOR_A_PAGAR'].median()\n",
        "df_pgto['VALOR_A_PAGAR'] = df_pgto['VALOR_A_PAGAR'].fillna(mediana)"
      ]
    },
    {
      "cell_type": "markdown",
      "metadata": {
        "id": "LgWvqVVnP4Gz"
      },
      "source": [
        "## base_pagamentos_teste"
      ]
    },
    {
      "cell_type": "code",
      "execution_count": null,
      "metadata": {
        "colab": {
          "base_uri": "https://localhost:8080/",
          "height": 438
        },
        "id": "dBuIXMZjQHB0",
        "outputId": "801deaf3-4e57-44cc-f00f-b980e9ee3200"
      },
      "outputs": [],
      "source": [
        "# Verificação estrutural\n",
        "df_pgto_teste.info()\n",
        "df_pgto_teste.head()"
      ]
    },
    {
      "cell_type": "code",
      "execution_count": null,
      "metadata": {
        "colab": {
          "base_uri": "https://localhost:8080/"
        },
        "id": "NNreLYwwUCEx",
        "outputId": "d6490ac9-5966-4936-8d48-aac56da278c1"
      },
      "outputs": [],
      "source": [
        "# Verificação da distribuição das categorias\n",
        "for column in df_pgto_teste:\n",
        "    print(f\"Contagem na coluna '{column}':\")\n",
        "    print(df_pgto_teste[column].value_counts(dropna=False))\n",
        "    print(\"-\" * 30)"
      ]
    },
    {
      "cell_type": "code",
      "execution_count": null,
      "metadata": {
        "id": "LXwwjtiKUCBp"
      },
      "outputs": [],
      "source": [
        "# Conversões\n",
        "df_pgto_teste['SAFRA_REF'] = pd.to_datetime(df_pgto_teste['SAFRA_REF'].astype(str).str.strip() + '-01', errors='coerce')\n",
        "df_pgto_teste['DATA_EMISSAO_DOCUMENTO'] = pd.to_datetime(df_pgto_teste['DATA_EMISSAO_DOCUMENTO'], format='%Y-%m-%d', errors='coerce')\n",
        "df_pgto_teste['DATA_VENCIMENTO'] = pd.to_datetime(df_pgto_teste['DATA_VENCIMENTO'], format='%Y-%m-%d', errors='coerce')"
      ]
    },
    {
      "cell_type": "code",
      "execution_count": null,
      "metadata": {
        "colab": {
          "base_uri": "https://localhost:8080/",
          "height": 467
        },
        "id": "s4f0gfV4UB-s",
        "outputId": "1051608f-5634-4b27-c1be-ea153a0dbf75"
      },
      "outputs": [],
      "source": [
        "# Análise da variável SAFRA_REF\n",
        "sns.histplot(df_pgto_teste['SAFRA_REF'])"
      ]
    },
    {
      "cell_type": "code",
      "execution_count": null,
      "metadata": {
        "colab": {
          "base_uri": "https://localhost:8080/",
          "height": 881
        },
        "id": "YwyhI4tiUB7q",
        "outputId": "5b16fcd0-888f-442b-dcc6-ef8d1ca59a75"
      },
      "outputs": [],
      "source": [
        "# Análise da variável DATA_EMISSAO_DOCUMENTO\n",
        "sns.histplot(df_pgto_teste['DATA_EMISSAO_DOCUMENTO'])\n",
        "plt.show()\n",
        "\n",
        "sns.boxplot(x=df_pgto_teste['DATA_EMISSAO_DOCUMENTO'])\n",
        "plt.show()"
      ]
    },
    {
      "cell_type": "code",
      "execution_count": null,
      "metadata": {
        "colab": {
          "base_uri": "https://localhost:8080/",
          "height": 881
        },
        "id": "fwyCM7WZUB4M",
        "outputId": "4e819751-91d7-4456-ca33-b56816c1065b"
      },
      "outputs": [],
      "source": [
        "# Análise da variável DATA_VENCIMENTO\n",
        "sns.histplot(df_pgto_teste['DATA_VENCIMENTO'])\n",
        "plt.show()\n",
        "\n",
        "sns.boxplot(x=df_pgto_teste['DATA_VENCIMENTO'])\n",
        "plt.show()"
      ]
    },
    {
      "cell_type": "code",
      "execution_count": null,
      "metadata": {
        "colab": {
          "base_uri": "https://localhost:8080/"
        },
        "id": "YHH30RuVUB1C",
        "outputId": "7923648d-6152-4dda-bc01-e0dd3e55b4c6"
      },
      "outputs": [],
      "source": [
        "# Cálculo dos quartis e criação dos limites\n",
        "Q1 = df_pgto_teste['DATA_VENCIMENTO'].quantile(0.25)\n",
        "Q3 = df_pgto_teste['DATA_VENCIMENTO'].quantile(0.75)\n",
        "IQR = Q3 - Q1\n",
        "limite_inferior = Q1 - 1.5 * IQR\n",
        "limite_superior = Q3 + 1.5 * IQR\n",
        "\n",
        "# Filtragem do dataframe para cálculo da redução de registros\n",
        "df_pgto_teste_sem_outliers = df_pgto_teste.loc[\n",
        "    df_pgto_teste['DATA_VENCIMENTO'].isna() |\n",
        "    ((df_pgto_teste['DATA_VENCIMENTO'] >= limite_inferior) &\n",
        "     (df_pgto_teste['DATA_VENCIMENTO'] <= limite_superior))].copy()\n",
        "\n",
        "# Verificação\n",
        "num_removidos = len(df_pgto_teste) - len(df_pgto_teste_sem_outliers)\n",
        "print(f\"Registros removidos: {num_removidos}\")\n",
        "print(f\"Novo tamanho: {df_pgto_teste_sem_outliers.shape}\")\n",
        "\n",
        "# Remoção no dataframe original\n",
        "df_pgto_teste = df_pgto_teste.loc[\n",
        "    df_pgto_teste['DATA_VENCIMENTO'].isna() |\n",
        "    ((df_pgto_teste['DATA_VENCIMENTO'] >= limite_inferior) &\n",
        "     (df_pgto_teste['DATA_VENCIMENTO'] <= limite_superior))]"
      ]
    },
    {
      "cell_type": "code",
      "execution_count": null,
      "metadata": {
        "colab": {
          "base_uri": "https://localhost:8080/",
          "height": 881
        },
        "id": "jFBbx3RRUByH",
        "outputId": "f489c2d0-c65b-4192-feb4-a20893b224da"
      },
      "outputs": [],
      "source": [
        "# Análise da variável VALOR_A_PAGAR\n",
        "plt.show()\n",
        "\n",
        "sns.histplot(x=df_pgto_teste['VALOR_A_PAGAR'])\n",
        "plt.show()\n",
        "\n",
        "sns.boxplot(x=df_pgto_teste['VALOR_A_PAGAR'])\n",
        "plt.show()"
      ]
    },
    {
      "cell_type": "code",
      "execution_count": null,
      "metadata": {
        "colab": {
          "base_uri": "https://localhost:8080/"
        },
        "id": "4xtRoZ6JUBuj",
        "outputId": "0192a435-00c6-47a5-8524-6d6df23ee735"
      },
      "outputs": [],
      "source": [
        "# Cálculo dos quartis e criação dos limites\n",
        "Q1 = df_pgto_teste['VALOR_A_PAGAR'].quantile(0.25)\n",
        "Q3 = df_pgto_teste['VALOR_A_PAGAR'].quantile(0.75)\n",
        "IQR = Q3 - Q1\n",
        "limite_superior = Q3 + 1.5 * IQR\n",
        "\n",
        "# Filtragem do dataframe para cálculo da redução de registros\n",
        "df_pgto_sem_outliers = df_pgto_teste.loc[df_pgto_teste['VALOR_A_PAGAR'].isna() | (df_pgto_teste['VALOR_A_PAGAR'] <= limite_superior)].copy()\n",
        "\n",
        "# Verificação\n",
        "num_removidos = len(df_pgto_teste) - len(df_pgto_sem_outliers)\n",
        "print(f\"Registros removidos: {num_removidos}\")\n",
        "print(f\"Novo tamanho: {df_pgto_sem_outliers.shape}\")\n",
        "\n",
        "# Remoção no dataframe original\n",
        "df_pgto_teste = df_pgto_teste.loc[df_pgto_teste['VALOR_A_PAGAR'].isna() | (df_pgto_teste['VALOR_A_PAGAR'] <= limite_superior)]"
      ]
    },
    {
      "cell_type": "code",
      "execution_count": null,
      "metadata": {
        "id": "JJu5wdhmUBlq"
      },
      "outputs": [],
      "source": [
        "# Preenchimento de nulos\n",
        "mediana = df_pgto_teste['VALOR_A_PAGAR'].median()\n",
        "df_pgto_teste['VALOR_A_PAGAR'] = df_pgto_teste['VALOR_A_PAGAR'].fillna(mediana)"
      ]
    },
    {
      "cell_type": "markdown",
      "metadata": {
        "id": "uvZyHCsGQOIt"
      },
      "source": [
        "# 2️⃣ Análise, Modelagem e Preparação Final"
      ]
    },
    {
      "cell_type": "markdown",
      "metadata": {
        "id": "s5SqliwDWzf-"
      },
      "source": [
        "## Enriquecimento da base_pagamentos_desenvolvimento limpa, com as features das outras bases também limpas"
      ]
    },
    {
      "cell_type": "code",
      "execution_count": null,
      "metadata": {
        "id": "bma6opyIYksg"
      },
      "outputs": [],
      "source": [
        "# Conversões para data\n",
        "# df_info\n",
        "df_info['SAFRA_REF'] = pd.to_datetime(df_info['SAFRA_REF'], format='%Y-%m-%d', errors='coerce')\n",
        "\n",
        "# df_pgto\n",
        "df_pgto['SAFRA_REF'] = pd.to_datetime(df_pgto['SAFRA_REF'], format='%Y-%d-%m', errors='coerce')\n",
        "df_pgto['DATA_EMISSAO_DOCUMENTO'] = pd.to_datetime(df_pgto['DATA_EMISSAO_DOCUMENTO'], format='%Y-%m-%d', errors='coerce')\n",
        "df_pgto['DATA_PAGAMENTO'] = pd.to_datetime(df_pgto['DATA_PAGAMENTO'], format='%Y-%m-%d', errors='coerce')\n",
        "df_pgto['DATA_VENCIMENTO'] = pd.to_datetime(df_pgto['DATA_VENCIMENTO'], format='%Y-%m-%d', errors='coerce')\n",
        "df_pgto['PK_CLIENTE_SAFRA'] = df_pgto['ID_CLIENTE'].astype(str) + '_' + df_pgto['SAFRA_REF'].astype(str).astype(str).str[:7]"
      ]
    },
    {
      "cell_type": "code",
      "execution_count": null,
      "metadata": {
        "id": "LBR5M0nSYkpJ"
      },
      "outputs": [],
      "source": [
        "# Criação de features\n",
        "\n",
        "# Dias de atraso no pagamento\n",
        "df_pgto['ATRASO'] = (df_pgto['DATA_PAGAMENTO'] - df_pgto['DATA_VENCIMENTO']).dt.days\n",
        "\n",
        "# Tempo entre emissão da nota e vencimento\n",
        "df_pgto['PRAZO_CREDITO_DIAS'] = (df_pgto['DATA_VENCIMENTO'] - df_pgto['DATA_EMISSAO_DOCUMENTO']).dt.days"
      ]
    },
    {
      "cell_type": "code",
      "execution_count": null,
      "metadata": {
        "id": "-QpUzBo2YkmS"
      },
      "outputs": [],
      "source": [
        "# Agrupamento - adequação da granularidade de datas\n",
        "df_pgto_agrupado = df_pgto.groupby('PK_CLIENTE_SAFRA', as_index=False)[['VALOR_A_PAGAR', 'ATRASO', 'TAXA','PRAZO_CREDITO_DIAS']].mean()\n",
        "df_pgto_agrupado['ID_CLIENTE'] = df_pgto_agrupado['PK_CLIENTE_SAFRA'].str.split('_').str[0]\n",
        "df_pgto_agrupado['SAFRA_REF'] = df_pgto_agrupado['PK_CLIENTE_SAFRA'].str.split('_').str[1]\n",
        "df_pgto_agrupado['ID_CLIENTE'] = df_pgto_agrupado['ID_CLIENTE'].astype(int)\n",
        "\n",
        "# Enriquecimento\n",
        "# LEFT JOIN com df_info\n",
        "df_info['PK_CLIENTE_SAFRA'] = df_info['ID_CLIENTE'].astype(str) + '_' + df_info['SAFRA_REF'].dt.strftime('%Y-%m')\n",
        "df_pgto_agrupado = df_pgto_agrupado.merge(df_info[['PK_CLIENTE_SAFRA', 'RENDA_MES_ANTERIOR','NO_FUNCIONARIOS']], on='PK_CLIENTE_SAFRA', how='left')\n",
        "\n",
        "# LEFT JOIN com df_cadastro\n",
        "df_pgto_agrupado = df_pgto_agrupado.merge(df_cadastro, on='ID_CLIENTE', how='left')\n",
        "\n",
        "# Criação do target\n",
        "df_pgto_agrupado['INADIMPLENTE'] = (df_pgto_agrupado['ATRASO'] >= 5).astype(int)"
      ]
    },
    {
      "cell_type": "markdown",
      "metadata": {
        "id": "N0p8Mde7YXw9"
      },
      "source": [
        "## Tratamento da base de modelagem agrupada e enriquecida"
      ]
    },
    {
      "cell_type": "code",
      "execution_count": null,
      "metadata": {
        "id": "ed57MbqlYuTa"
      },
      "outputs": [],
      "source": [
        "# Remoção de colunas\n",
        "df_pgto_agrupado.drop(columns=['DATA_CADASTRO'], inplace=True)\n",
        "\n",
        "# Preenchimento de nulos\n",
        "df_pgto_agrupado['DDD'] = df_pgto_agrupado['DDD'].fillna('11')\n",
        "df_pgto_agrupado['FLAG_PF'] = df_pgto_agrupado['FLAG_PF'].fillna('NÃO INFORMADO')\n",
        "df_pgto_agrupado['SEGMENTO_INDUSTRIAL'] = df_pgto_agrupado['SEGMENTO_INDUSTRIAL'].fillna('NÃO INFORMADO')\n",
        "df_pgto_agrupado['DOMINIO_EMAIL'] = df_pgto_agrupado['DOMINIO_EMAIL'].fillna('NÃO INFORMADO')\n",
        "df_pgto_agrupado['PORTE'] = df_pgto_agrupado['PORTE'].fillna('NÃO INFORMADO')\n",
        "df_pgto_agrupado['CEP_2_DIG'] = df_pgto_agrupado['CEP_2_DIG'].fillna('NÃO INFORMADO')\n",
        "df_pgto_agrupado['TEMPO_CADASTRO_ANOS'] = df_pgto_agrupado['TEMPO_CADASTRO_ANOS'].fillna(df_pgto_agrupado['TEMPO_CADASTRO_ANOS'].median())"
      ]
    },
    {
      "cell_type": "code",
      "execution_count": null,
      "metadata": {
        "colab": {
          "base_uri": "https://localhost:8080/",
          "height": 881
        },
        "id": "_ZFlY9aZYuQj",
        "outputId": "4dfdeb7e-b121-462d-859d-f57f44436292"
      },
      "outputs": [],
      "source": [
        "# Análise da variável NO_FUNCIONARIOS\n",
        "sns.histplot(df_pgto_agrupado['NO_FUNCIONARIOS'])\n",
        "plt.show()\n",
        "\n",
        "sns.boxplot(x=df_pgto_agrupado['NO_FUNCIONARIOS'])\n",
        "plt.show()"
      ]
    },
    {
      "cell_type": "code",
      "execution_count": null,
      "metadata": {
        "colab": {
          "base_uri": "https://localhost:8080/"
        },
        "id": "_vyTULfNYuNT",
        "outputId": "191785aa-98b2-4708-e63a-83ae5fcc5e95"
      },
      "outputs": [],
      "source": [
        "# Cálculo dos quartis e criação dos limites\n",
        "Q1 = df_pgto_agrupado['NO_FUNCIONARIOS'].quantile(0.25)\n",
        "Q3 = df_pgto_agrupado['NO_FUNCIONARIOS'].quantile(0.75)\n",
        "IQR = Q3 - Q1\n",
        "limite_inferior = Q1 - 1.5 * IQR\n",
        "limite_superior = Q3 + 1.5 * IQR\n",
        "\n",
        "# Filtragem do dataframe para cálculo da redução de registros\n",
        "df_pgto_teste_sem_outliers = df_pgto_agrupado.loc[\n",
        "    df_pgto_agrupado['NO_FUNCIONARIOS'].isna() |\n",
        "    ((df_pgto_agrupado['NO_FUNCIONARIOS'] >= limite_inferior) &\n",
        "     (df_pgto_agrupado['NO_FUNCIONARIOS'] <= limite_superior))].copy()\n",
        "\n",
        "# Verificação\n",
        "num_removidos = len(df_pgto_agrupado) - len(df_pgto_teste_sem_outliers)\n",
        "print(f\"Registros removidos: {num_removidos}\")\n",
        "print(f\"Novo tamanho: {df_pgto_teste_sem_outliers.shape}\")\n",
        "\n",
        "# Remoção no dataframe original\n",
        "df_pgto_agrupado = df_pgto_agrupado.loc[\n",
        "    df_pgto_agrupado['NO_FUNCIONARIOS'].isna() |\n",
        "    ((df_pgto_agrupado['NO_FUNCIONARIOS'] >= limite_inferior) &\n",
        "     (df_pgto_agrupado['NO_FUNCIONARIOS'] <= limite_superior))]"
      ]
    },
    {
      "cell_type": "code",
      "execution_count": null,
      "metadata": {
        "colab": {
          "base_uri": "https://localhost:8080/",
          "height": 881
        },
        "id": "qjmpVZfiYuKX",
        "outputId": "342b9838-aee3-4470-af45-dd360521d8e7"
      },
      "outputs": [],
      "source": [
        "# Análise da variável RENDA_MES_ANTERIOR\n",
        "sns.histplot(df_pgto_agrupado['RENDA_MES_ANTERIOR'])\n",
        "plt.show()\n",
        "\n",
        "sns.boxplot(x=df_pgto_agrupado['RENDA_MES_ANTERIOR'])\n",
        "plt.show()"
      ]
    },
    {
      "cell_type": "code",
      "execution_count": null,
      "metadata": {
        "colab": {
          "base_uri": "https://localhost:8080/"
        },
        "id": "PxQrxShnYuG7",
        "outputId": "e3fd7125-2d8b-46b5-c847-2d43c86d24dc"
      },
      "outputs": [],
      "source": [
        "# Cálculo dos quartis e criação dos limites\n",
        "Q1 = df_pgto_agrupado['RENDA_MES_ANTERIOR'].quantile(0.25)\n",
        "Q3 = df_pgto_agrupado['RENDA_MES_ANTERIOR'].quantile(0.75)\n",
        "IQR = Q3 - Q1\n",
        "limite_superior = Q3 + 1.5 * IQR\n",
        "\n",
        "# Filtragem do dataframe para cálculo da redução de registros\n",
        "df_pgto_sem_outliers = df_pgto_agrupado.loc[df_pgto_agrupado['RENDA_MES_ANTERIOR'].isna() | (df_pgto_agrupado['RENDA_MES_ANTERIOR'] <= limite_superior)].copy()\n",
        "\n",
        "# Verificação\n",
        "num_removidos = len(df_pgto_agrupado) - len(df_pgto_sem_outliers)\n",
        "print(f\"Registros removidos: {num_removidos}\")\n",
        "print(f\"Novo tamanho: {df_pgto_sem_outliers.shape}\")\n",
        "\n",
        "# Remoção no dataframe original\n",
        "df_pgto_agrupado = df_pgto_agrupado.loc[df_pgto_agrupado['RENDA_MES_ANTERIOR'].isna() | (df_pgto_agrupado['RENDA_MES_ANTERIOR'] <= limite_superior)]"
      ]
    },
    {
      "cell_type": "code",
      "execution_count": null,
      "metadata": {
        "id": "0Iq9VareYuDJ"
      },
      "outputs": [],
      "source": [
        "# Preenchimendo dos valores ausentes de renda e funcionários com a mediana\n",
        "df_pgto_agrupado['RENDA_MES_ANTERIOR'] = df_pgto_agrupado['RENDA_MES_ANTERIOR'].fillna(df_pgto_agrupado['RENDA_MES_ANTERIOR'].median())\n",
        "df_pgto_agrupado['NO_FUNCIONARIOS'] = df_pgto_agrupado['NO_FUNCIONARIOS'].fillna(df_pgto_agrupado['NO_FUNCIONARIOS'].median())\n",
        "\n",
        "# Conversão do tipo de dado do target, para adequação ao modelo\n",
        "df_pgto_agrupado['INADIMPLENTE'] = df_pgto_agrupado['INADIMPLENTE'].astype(bool)"
      ]
    },
    {
      "cell_type": "markdown",
      "metadata": {
        "id": "7WUnXoe1TXhE"
      },
      "source": [
        "# 3️⃣ Treinamento, Aplicação e Avaliação do Modelo"
      ]
    },
    {
      "cell_type": "markdown",
      "metadata": {
        "id": "VZ6N0yRFaIJy"
      },
      "source": [
        "## Ajustes finais da base e treinamento do modelo"
      ]
    },
    {
      "cell_type": "code",
      "execution_count": null,
      "metadata": {
        "colab": {
          "base_uri": "https://localhost:8080/",
          "height": 289
        },
        "id": "JEdTQEfzThJL",
        "outputId": "cc255530-fcdb-4adc-f93d-7343fcfc8cf5"
      },
      "outputs": [],
      "source": [
        "# Cópia do dataset, para maior controle e praticidade\n",
        "df = df_pgto_agrupado.copy()\n",
        "\n",
        "# Extração do ano e mês como inteiros\n",
        "df['SAFRA_ANO'] = df['SAFRA_REF'].str.slice(0, 4).astype(int)\n",
        "df['SAFRA_MES'] = df['SAFRA_REF'].str.slice(5, 7).astype(int)\n",
        "\n",
        "# Remoção de colunas que não contribuirão para o treinamento do modelo\n",
        "df.drop(columns=['PK_CLIENTE_SAFRA', 'ID_CLIENTE', 'DOMINIO_EMAIL', 'DDD', 'SAFRA_REF', 'ATRASO'], inplace=True)\n",
        "\n",
        "# CEP_2_DIG: redução da quantidade de categorias, para manter apenas as mais frequentes\n",
        "top_10_cep = df['CEP_2_DIG'].value_counts().nlargest(10).index\n",
        "df['CEP_2_DIG'] = df['CEP_2_DIG'].where(df['CEP_2_DIG'].isin(top_10_cep), 'OUTROS')\n",
        "df['CEP_2_DIG'] = df['CEP_2_DIG'].astype(str).str.replace(r'\\.0$', '', regex=True)\n",
        "\n",
        "# Ajuste de valores de FLAG_PF\n",
        "df['FLAG_PF'] = df['FLAG_PF'].map({'X': 1, 'NÃO INFORMADO': 0}).astype(bool)\n",
        "\n",
        "# Encoding manual de SEGMENTO_INDUSTRIAL\n",
        "df = pd.get_dummies(df, columns=['SEGMENTO_INDUSTRIAL'], drop_first=True)\n",
        "df.drop(columns=['SEGMENTO_INDUSTRIAL_NÃO INFORMADO'], inplace=True)\n",
        "\n",
        "# Encoding manual de PORTE\n",
        "porte_map = {'PEQUENO': 1, 'MEDIO': 2, 'GRANDE': 3, 'NÃO INFORMADO': 0}\n",
        "df['PORTE'] = df['PORTE'].map(porte_map)\n",
        "\n",
        "# Separação do target\n",
        "X = df.drop('INADIMPLENTE', axis=1)\n",
        "y = df['INADIMPLENTE']\n",
        "\n",
        "# Definição das listas de colunas\n",
        "colunas_onehot = ['CEP_2_DIG']\n",
        "colunas_sacler = ['VALOR_A_PAGAR', 'PRAZO_CREDITO_DIAS', 'RENDA_MES_ANTERIOR', 'NO_FUNCIONARIOS', 'TEMPO_CADASTRO_ANOS']\n",
        "colunas_ignorar = ['TAXA', 'FLAG_PF', 'PORTE','SAFRA_MES','SAFRA_ANO','SEGMENTO_INDUSTRIAL_Indústria', 'SEGMENTO_INDUSTRIAL_Serviços']\n",
        "\n",
        "# Montagem do ColumnTransformer\n",
        "preprocessor = ColumnTransformer(\n",
        "    transformers=[\n",
        "        # colunas que sofrerão One‑Hot\n",
        "        ('ohe_seg',   OneHotEncoder(sparse_output=False, handle_unknown='ignore'), colunas_onehot),\n",
        "        # colunas numéricas que sofrerão Scaler\n",
        "        ('scale_num', StandardScaler(), colunas_sacler),\n",
        "        # Pass‑through das colunas que não mudam\n",
        "        ('pass',      'passthrough', colunas_ignorar),\n",
        "],\n",
        "    remainder='drop'\n",
        ")\n",
        "\n",
        "# Instanciamento do Pipeline\n",
        "pipeline = ImbPipeline([\n",
        "    ('preprocessador', preprocessor),\n",
        "    ('smote', SMOTE(random_state=42)),\n",
        "    ('modelo', RandomForestClassifier(random_state=42, class_weight='balanced'))\n",
        "])\n",
        "\n",
        "# Separação e treino\n",
        "X_train, X_test, y_train, y_test = train_test_split(X, y, test_size=0.2, random_state=42)\n",
        "\n",
        "pipeline.fit(X_train, y_train)"
      ]
    },
    {
      "cell_type": "markdown",
      "metadata": {
        "id": "De7dx8tVmSHH"
      },
      "source": [
        "## Avaliação de performance do modelo"
      ]
    },
    {
      "cell_type": "code",
      "execution_count": null,
      "metadata": {
        "colab": {
          "base_uri": "https://localhost:8080/"
        },
        "id": "uHQm7Ir4aZL3",
        "outputId": "6f1ad593-f1e0-46aa-d498-9a4f5c5272c6"
      },
      "outputs": [],
      "source": [
        "# Comparação da acurácia entre dataset de treino e de teste\n",
        "acuracia_treino = pipeline.score(X_train, y_train)\n",
        "acuracia_teste  = pipeline.score(X_test,  y_test)\n",
        "print(f\"Acurácia base de treino: {acuracia_treino:.4f}\")\n",
        "print(f\"Acurácia base de teste: {acuracia_teste:.4f}\\n\")"
      ]
    },
    {
      "cell_type": "code",
      "execution_count": null,
      "metadata": {
        "colab": {
          "base_uri": "https://localhost:8080/"
        },
        "id": "Km9320M4aZI8",
        "outputId": "2bfb52ea-025a-49b5-e768-964f501cdf3e"
      },
      "outputs": [],
      "source": [
        "# Teste de validação cruzada\n",
        "cv_scores = cross_val_score(\n",
        "    pipeline, X, y, cv=5, scoring='accuracy', n_jobs=-1\n",
        "    )\n",
        "\n",
        "print('CV scores:      ', cv_scores)\n",
        "print(f\"Média CV:       {cv_scores.mean():.4f}\")\n",
        "print(f\"Desvio‑padrão:  {cv_scores.std():.4f}\\n\")"
      ]
    },
    {
      "cell_type": "code",
      "execution_count": null,
      "metadata": {
        "colab": {
          "base_uri": "https://localhost:8080/"
        },
        "id": "H1DS8DyRaZGB",
        "outputId": "94aa90db-5b0b-4d1f-9921-bf5f5ef21fb0"
      },
      "outputs": [],
      "source": [
        "# Curva de aprendizado: evolução do desempenho do modelo em função do volume de dados de treino\n",
        "train_sizes, train_scores, val_scores = learning_curve(\n",
        "    pipeline, X, y, train_sizes=np.linspace(0.1, 1.0, 5), cv=5, scoring='accuracy', n_jobs=-1\n",
        "    )\n",
        "train_mean = train_scores.mean(axis=1)\n",
        "val_mean   = val_scores.mean(axis=1)\n",
        "\n",
        "print('Resultados curva de aprendizado:')\n",
        "for n, tr, va in zip(train_sizes, train_mean, val_mean):\n",
        "    pct = n / X.shape[0]\n",
        "    print(f\"  Treino {n} amostras ({pct:.0%}): treino={tr:.4f}, validação={va:.4f}\")\n",
        "print()"
      ]
    },
    {
      "cell_type": "code",
      "execution_count": null,
      "metadata": {
        "colab": {
          "base_uri": "https://localhost:8080/"
        },
        "id": "GHbAKbGcaZC6",
        "outputId": "ad676149-ca29-4c15-9610-fd39a0e02712"
      },
      "outputs": [],
      "source": [
        "# Matriz de confusão e Relatório de classificação\n",
        "y_pred = pipeline.predict(X_test)\n",
        "cm = confusion_matrix(y_test, y_pred)\n",
        "print('Matriz de confusão:')\n",
        "print(cm)\n",
        "print('\\nRelatório de classificação:')\n",
        "print(classification_report(y_test, y_pred))"
      ]
    },
    {
      "cell_type": "code",
      "execution_count": null,
      "metadata": {
        "colab": {
          "base_uri": "https://localhost:8080/",
          "height": 472
        },
        "id": "P0f4TBMuaY_x",
        "outputId": "18f50cd5-4db4-481c-b08f-297c2b8a3332"
      },
      "outputs": [],
      "source": [
        "# Curva ROC e cálculo da área sob a curva (AUC)\n",
        "probs = pipeline.predict_proba(X_test)[:, 1]\n",
        "fpr, tpr, thresholds = roc_curve(y_test, probs)\n",
        "auc = roc_auc_score(y_test, probs)\n",
        "\n",
        "# Plotagem\n",
        "plt.plot(fpr, tpr)\n",
        "plt.plot([0,1], [0,1], '--')\n",
        "plt.xlabel('Taxa de falsos positivos')\n",
        "plt.ylabel('Taxa de verdadeiros positivos')\n",
        "plt.title(f'Curva ROC: área sob a curva (AUC) = {auc:.4f}')\n",
        "plt.show()"
      ]
    },
    {
      "cell_type": "code",
      "execution_count": null,
      "metadata": {
        "colab": {
          "base_uri": "https://localhost:8080/"
        },
        "id": "oymkyD8ppviT",
        "outputId": "947dd625-bd70-4b0a-e2b4-eebc3b4ed2f4"
      },
      "outputs": [],
      "source": [
        "# Estatística de Kolmogorov-Smirnov (KS)\n",
        "y_proba = pipeline.predict_proba(X_test)[:, 1]\n",
        "fpr, tpr, thresholds = roc_curve(y_test, y_proba)\n",
        "ks_statistic = max(tpr - fpr)\n",
        "ks_threshold = thresholds[np.argmax(tpr - fpr)]\n",
        "\n",
        "print(f'Estatística KS: {ks_statistic:.4f}')\n",
        "print(f'Threshold correspondente: {ks_threshold:.4f}')"
      ]
    },
    {
      "cell_type": "markdown",
      "metadata": {
        "id": "duXuhdhwag40"
      },
      "source": [
        "# 4️⃣ Geração de previsões na base base_pagamentos_teste"
      ]
    },
    {
      "cell_type": "markdown",
      "metadata": {
        "id": "VYXsnS9ma0fm"
      },
      "source": [
        "## Adequação da base de teste"
      ]
    },
    {
      "cell_type": "code",
      "execution_count": null,
      "metadata": {
        "id": "j3kUXKNqaY8w"
      },
      "outputs": [],
      "source": [
        "# Conversões para data\n",
        "# df_pgto_teste\n",
        "df_pgto_teste['SAFRA_REF'] = pd.to_datetime(df_pgto_teste['SAFRA_REF'], format='%Y-%d-%m', errors='coerce')\n",
        "df_pgto_teste['DATA_EMISSAO_DOCUMENTO'] = pd.to_datetime(df_pgto_teste['DATA_EMISSAO_DOCUMENTO'], format='%Y-%m-%d', errors='coerce')\n",
        "df_pgto_teste['DATA_VENCIMENTO'] = pd.to_datetime(df_pgto_teste['DATA_VENCIMENTO'], format='%Y-%m-%d', errors='coerce')\n",
        "\n",
        "# df_info\n",
        "df_info['SAFRA_REF'] = pd.to_datetime(df_info['SAFRA_REF'], format='%Y-%m-%d', errors='coerce')"
      ]
    },
    {
      "cell_type": "code",
      "execution_count": null,
      "metadata": {
        "id": "_P5eT4kpbLo3"
      },
      "outputs": [],
      "source": [
        "# Criação de features e agrupamentos\n",
        "df_pgto_teste['PK_CLIENTE_SAFRA'] = df_pgto_teste['ID_CLIENTE'].astype(str) + '_' + df_pgto_teste['SAFRA_REF'].astype(str).astype(str).str[:7]\n",
        "\n",
        "# Tempo entre emissão da nota e vencimento\n",
        "df_pgto_teste['PRAZO_CREDITO_DIAS'] = (df_pgto_teste['DATA_VENCIMENTO'] - df_pgto_teste['DATA_EMISSAO_DOCUMENTO']).dt.days\n",
        "\n",
        "# Agrupamento - adequação da granularidade de datas\n",
        "df_pgto_teste_agrupado = df_pgto_teste.groupby('PK_CLIENTE_SAFRA', as_index=False)[['VALOR_A_PAGAR', 'TAXA','PRAZO_CREDITO_DIAS']].mean()\n",
        "df_pgto_teste_agrupado['ID_CLIENTE'] = df_pgto_teste_agrupado['PK_CLIENTE_SAFRA'].str.split('_').str[0]\n",
        "df_pgto_teste_agrupado['SAFRA_REF'] = df_pgto_teste_agrupado['PK_CLIENTE_SAFRA'].str.split('_').str[1]\n",
        "df_pgto_teste_agrupado['ID_CLIENTE'] = df_pgto_teste_agrupado['ID_CLIENTE'].astype(int)\n",
        "\n",
        "# Enriquecimento\n",
        "# LEFT JOIN com df_info e df_cadastro\n",
        "df_info['PK_CLIENTE_SAFRA'] = df_info['ID_CLIENTE'].astype(str) + '_' + df_info['SAFRA_REF'].dt.strftime('%Y-%m')\n",
        "\n",
        "df_pgto_teste_agrupado = df_pgto_teste_agrupado.merge(df_info[['PK_CLIENTE_SAFRA', 'RENDA_MES_ANTERIOR','NO_FUNCIONARIOS']], on='PK_CLIENTE_SAFRA', how='left')\n",
        "df_pgto_teste_agrupado = df_pgto_teste_agrupado.merge(df_cadastro, on='ID_CLIENTE', how='left')"
      ]
    },
    {
      "cell_type": "code",
      "execution_count": null,
      "metadata": {
        "id": "S8_UicWqbN2w"
      },
      "outputs": [],
      "source": [
        "# Remoção de colunas\n",
        "df_pgto_teste_agrupado.drop(columns=['DATA_CADASTRO'], inplace=True)\n",
        "\n",
        "# Preenchimento de nulos\n",
        "df_pgto_teste_agrupado['DDD'] = df_pgto_teste_agrupado['DDD'].fillna('11')\n",
        "df_pgto_teste_agrupado['FLAG_PF'] = df_pgto_teste_agrupado['FLAG_PF'].fillna('NÃO INFORMADO')\n",
        "df_pgto_teste_agrupado['SEGMENTO_INDUSTRIAL'] = df_pgto_teste_agrupado['SEGMENTO_INDUSTRIAL'].fillna('NÃO INFORMADO')\n",
        "df_pgto_teste_agrupado['DOMINIO_EMAIL'] = df_pgto_teste_agrupado['DOMINIO_EMAIL'].fillna('NÃO INFORMADO')\n",
        "df_pgto_teste_agrupado['PORTE'] = df_pgto_teste_agrupado['PORTE'].fillna('NÃO INFORMADO')\n",
        "df_pgto_teste_agrupado['CEP_2_DIG'] = df_pgto_teste_agrupado['CEP_2_DIG'].fillna('NÃO INFORMADO')\n",
        "df_pgto_teste_agrupado['TEMPO_CADASTRO_ANOS'] = df_pgto_teste_agrupado['TEMPO_CADASTRO_ANOS'].fillna(df_pgto_teste_agrupado['TEMPO_CADASTRO_ANOS'].median())\n",
        "\n",
        "# Extração de ano e mês como inteiros\n",
        "df_pgto_teste_agrupado['SAFRA_ANO'] = df_pgto_teste_agrupado['SAFRA_REF'].str.slice(0, 4).astype(int)\n",
        "df_pgto_teste_agrupado['SAFRA_MES'] = df_pgto_teste_agrupado['SAFRA_REF'].str.slice(5, 7).astype(int)"
      ]
    },
    {
      "cell_type": "code",
      "execution_count": null,
      "metadata": {
        "id": "Wa-Gpz4_bQYS"
      },
      "outputs": [],
      "source": [
        "# Cópia do dataframe, para maior controle e praticidade\n",
        "df = df_pgto_teste_agrupado.copy()\n",
        "\n",
        "# Extração do ano e mês como inteiros\n",
        "df['SAFRA_ANO'] = df['SAFRA_REF'].str.slice(0, 4).astype(int)\n",
        "df['SAFRA_MES'] = df['SAFRA_REF'].str.slice(5, 7).astype(int)\n",
        "\n",
        "# Remoção de colunas que não contribuirão para o treinamento do modelo\n",
        "df.drop(columns=['PK_CLIENTE_SAFRA', 'DOMINIO_EMAIL', 'DDD', 'SAFRA_REF'], inplace=True)\n",
        "\n",
        "# CEP_2_DIG: redução da quantidade de categorias, para manter apenas as mais frequentes\n",
        "top_10_cep = df['CEP_2_DIG'].value_counts().nlargest(10).index\n",
        "df['CEP_2_DIG'] = df['CEP_2_DIG'].where(df['CEP_2_DIG'].isin(top_10_cep), 'OUTROS')\n",
        "\n",
        "# Ajuste do tipo de dado\n",
        "df['FLAG_PF'] = df['FLAG_PF'].map({'X': 1, 'NÃO INFORMADO': 0}).astype(bool)\n",
        "\n",
        "# One-Hot Encoding para SEGMENTO_INDSUTRIAL\n",
        "df = pd.get_dummies(df, columns=['SEGMENTO_INDUSTRIAL'], drop_first=True)\n",
        "df.drop(columns=['SEGMENTO_INDUSTRIAL_NÃO INFORMADO'], inplace=True)\n",
        "\n",
        "# Label Encoding manual para controlar qual valor numérico cada categoria receberá\n",
        "porte_map = {'PEQUENO': 1, 'MEDIO': 2, 'GRANDE': 3, 'NÃO INFORMADO': 0}\n",
        "df['PORTE'] = df['PORTE'].map(porte_map)"
      ]
    },
    {
      "cell_type": "markdown",
      "metadata": {
        "id": "MH9IblQxbSZr"
      },
      "source": [
        "## Geração de previsões"
      ]
    },
    {
      "cell_type": "code",
      "execution_count": null,
      "metadata": {
        "id": "gkPEMDdrbd0m"
      },
      "outputs": [],
      "source": [
        "df_pgto_teste_randomforest = df.copy()"
      ]
    },
    {
      "cell_type": "code",
      "execution_count": null,
      "metadata": {
        "colab": {
          "base_uri": "https://localhost:8080/",
          "height": 241
        },
        "id": "N8AFEJ25bWWL",
        "outputId": "6513d98a-9176-48f1-c046-021721958258"
      },
      "outputs": [],
      "source": [
        "# Previsão das classes (0 ou 1)\n",
        "y_pred = pipeline.predict(df_pgto_teste_randomforest)\n",
        "\n",
        "# Previsão das probabilidades das classes\n",
        "y_proba = pipeline.predict_proba(df_pgto_teste_randomforest)[:, 1]\n",
        "\n",
        "# Adição ao dataframe\n",
        "df_pgto_teste_randomforest['PREDITO_INADIMPLENTE'] = y_pred\n",
        "df_pgto_teste_randomforest['PROBABILIDADE_INADIMPLENCIA'] = y_proba\n",
        "df_pgto_teste_randomforest['SAFRA_REF'] = df_pgto_teste_randomforest['SAFRA_ANO'].astype(str) + '-' + \\\n",
        "    np.where(df_pgto_teste_randomforest['SAFRA_MES'].isin([10, 11, 12]),\n",
        "             df_pgto_teste_randomforest['SAFRA_MES'].astype(str),\n",
        "             '0' + df_pgto_teste_randomforest['SAFRA_MES'].astype(str))\n",
        "\n",
        "# Visualizar os primeiros resultados\n",
        "df_pgto_teste_randomforest['PROBABILIDADE_INADIMPLENCIA'].head()"
      ]
    },
    {
      "cell_type": "code",
      "execution_count": null,
      "metadata": {
        "id": "pbCXCNi8baHs"
      },
      "outputs": [],
      "source": [
        "# Exportação do arquivo final\n",
        "df_pgto_teste_randomforest[['ID_CLIENTE','SAFRA_REF','PROBABILIDADE_INADIMPLENCIA']].to_csv('submissao_case.csv', index=False)"
      ]
    }
  ],
  "metadata": {
    "colab": {
      "collapsed_sections": [
        "-WCfif5JPy0k",
        "CnbHXL-jP4WV",
        "lTD2riByP4Ol",
        "LgWvqVVnP4Gz",
        "uvZyHCsGQOIt",
        "s5SqliwDWzf-",
        "N0p8Mde7YXw9",
        "7WUnXoe1TXhE",
        "VZ6N0yRFaIJy",
        "De7dx8tVmSHH",
        "duXuhdhwag40"
      ],
      "provenance": []
    },
    "kernelspec": {
      "display_name": "Python 3",
      "name": "python3"
    },
    "language_info": {
      "codemirror_mode": {
        "name": "ipython",
        "version": 3
      },
      "file_extension": ".py",
      "mimetype": "text/x-python",
      "name": "python",
      "nbconvert_exporter": "python",
      "pygments_lexer": "ipython3",
      "version": "3.13.1"
    }
  },
  "nbformat": 4,
  "nbformat_minor": 0
}
